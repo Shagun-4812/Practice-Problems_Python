{
 "cells": [
  {
   "cell_type": "code",
   "execution_count": 37,
   "id": "ac61815f",
   "metadata": {},
   "outputs": [
    {
     "name": "stdout",
     "output_type": "stream",
     "text": [
      "True\n"
     ]
    }
   ],
   "source": [
    "# 1. Check if a string is a palindrome\n",
    "def checkPalindrome(s):\n",
    "    return s == s[::-1]\n",
    "\n",
    "\n",
    "result = checkPalindrome(\"radar\")\n",
    "print(result)  # Output: True"
   ]
  },
  {
   "cell_type": "code",
   "execution_count": 11,
   "id": "11c58218",
   "metadata": {},
   "outputs": [],
   "source": [
    "# 2. Find the largest index of a character in str1 also present in str2\n",
    "def minIndexFirstString(str1, str2):\n",
    "    max_index = -1\n",
    "    for i, char in enumerate(str1):\n",
    "        if char in str2:\n",
    "            max_index = i\n",
    "    return max_index"
   ]
  },
  {
   "cell_type": "code",
   "execution_count": 12,
   "id": "1d750532",
   "metadata": {},
   "outputs": [],
   "source": [
    "# 3. Extract the first letter of every word\n",
    "def firstLetters(s):\n",
    "    words = s.split()\n",
    "    return ''.join(word[0] for word in words)"
   ]
  },
  {
   "cell_type": "code",
   "execution_count": 13,
   "id": "bfd99265",
   "metadata": {},
   "outputs": [],
   "source": [
    "# 4. Capitalize letters at even indices and raise exception for uppercase letters\n",
    "class UpperCaseException(Exception):\n",
    "    pass\n",
    "\n",
    "def evenIndexCapital(s):\n",
    "    if any(c.isupper() for c in s):\n",
    "        raise UpperCaseException(\"Input contains uppercase letters.\")\n",
    "    return ''.join(c.upper() if i % 2 == 0 else c for i, c in enumerate(s))\n"
   ]
  },
  {
   "cell_type": "code",
   "execution_count": 14,
   "id": "6e67f459",
   "metadata": {},
   "outputs": [],
   "source": [
    "# 5. Rotate string left and then right\n",
    "def shift(s, ccount=0, acount=0):\n",
    "    if not isinstance(ccount, int) or not isinstance(acount, int) or ccount < 0 or acount < 0:\n",
    "        raise ValueError(\"Rotation counts must be non-negative integers.\")\n",
    "    acount %= len(s)\n",
    "    ccount %= len(s)\n",
    "    return s[acount:] + s[:acount] if ccount == 0 else (s[acount:] + s[:acount])[-ccount:] + (s[acount:] + s[:acount])[:-ccount]\n"
   ]
  },
  {
   "cell_type": "code",
   "execution_count": 15,
   "id": "6cc66239",
   "metadata": {},
   "outputs": [],
   "source": [
    "# 6. Find sorted unique characters in two strings\n",
    "def distChar(s1, s2):\n",
    "    return ''.join(sorted(set(s1) ^ set(s2)))\n"
   ]
  },
  {
   "cell_type": "code",
   "execution_count": 16,
   "id": "4ea4d2c7",
   "metadata": {},
   "outputs": [],
   "source": [
    "# 7. Change characters to make the string uniform\n",
    "class InvalidInputException(Exception):\n",
    "    pass\n",
    "\n",
    "def change(s):\n",
    "    if not all(c in \"RG\" for c in s):\n",
    "        raise InvalidInputException(\"Input must contain only 'R' and 'G'.\")\n",
    "    return min(s.count('R'), s.count('G'))\n"
   ]
  },
  {
   "cell_type": "code",
   "execution_count": 17,
   "id": "8350dc02",
   "metadata": {},
   "outputs": [],
   "source": [
    "# 8. Remove vowels from a string\n",
    "def delVowels(s):\n",
    "    vowels = \"aeiouAEIOU\"\n",
    "    return ''.join(c for c in s if c not in vowels)\n"
   ]
  },
  {
   "cell_type": "code",
   "execution_count": 18,
   "id": "b63190ac",
   "metadata": {},
   "outputs": [],
   "source": [
    "# 9. Move duplicates to the end with '_' separator\n",
    "def moveDups(s):\n",
    "    seen, dups = [], []\n",
    "    for c in s:\n",
    "        if c in seen:\n",
    "            dups.append(c)\n",
    "        else:\n",
    "            seen.append(c)\n",
    "    return ''.join(seen) + ('_' + ''.join(dups) if dups else '')"
   ]
  },
  {
   "cell_type": "code",
   "execution_count": 19,
   "id": "0057b5e0",
   "metadata": {},
   "outputs": [],
   "source": [
    "# 10. Separate consecutive identical characters into groups\n",
    "def separate(s):\n",
    "    groups, temp = [], s[0]\n",
    "    for i in range(1, len(s)):\n",
    "        if s[i] == s[i-1]:\n",
    "            temp += s[i]\n",
    "        else:\n",
    "            groups.append(temp)\n",
    "            temp = s[i]\n",
    "    groups.append(temp)\n",
    "    return groups"
   ]
  },
  {
   "cell_type": "code",
   "execution_count": 20,
   "id": "70eebede",
   "metadata": {},
   "outputs": [],
   "source": [
    "# 11. Minimum operations to convert str1 to str2 (Levenshtein distance)\n",
    "def minOp(str1, str2):\n",
    "    m, n = len(str1), len(str2)\n",
    "    dp = [[0] * (n + 1) for _ in range(m + 1)]\n",
    "    \n",
    "    for i in range(m + 1):\n",
    "        for j in range(n + 1):\n",
    "            if i == 0:\n",
    "                dp[i][j] = j\n",
    "            elif j == 0:\n",
    "                dp[i][j] = i\n",
    "            elif str1[i - 1] == str2[j - 1]:\n",
    "                dp[i][j] = dp[i - 1][j - 1]\n",
    "            else:\n",
    "                dp[i][j] = 1 + min(dp[i - 1][j], dp[i][j - 1], dp[i - 1][j - 1])\n",
    "    \n",
    "    return dp[m][n]\n"
   ]
  },
  {
   "cell_type": "code",
   "execution_count": 21,
   "id": "7beab6c9",
   "metadata": {},
   "outputs": [],
   "source": [
    "# 12. Calculate total fee paid based on roll number\n",
    "class InvalidRollException(Exception):\n",
    "    pass\n",
    "\n",
    "def fee(base_fee, roll_no):\n",
    "    if len(roll_no) != 7 or roll_no[:2] not in {'DS', 'CS', 'EE', 'ME'} or roll_no[4] not in {'1', '2'}:\n",
    "        raise InvalidRollException(\"Invalid roll number.\")\n",
    "    \n",
    "    year = int(roll_no[2:4])\n",
    "    program = 4 if roll_no[4] == '1' else 2\n",
    "    total_fee = 0\n",
    "    \n",
    "    for i in range(program):\n",
    "        total_fee += base_fee * (1.1 ** i)\n",
    "    \n",
    "    return int(total_fee)\n"
   ]
  },
  {
   "cell_type": "code",
   "execution_count": 22,
   "id": "c99614ac",
   "metadata": {},
   "outputs": [],
   "source": [
    "# 13. Reduce characters to make occurrence uniform\n",
    "from collections import Counter\n",
    "\n",
    "def reduce(s, k):\n",
    "    freq = Counter(s)\n",
    "    values = sorted(freq.values(), reverse=True)\n",
    "    \n",
    "    for _ in range(k):\n",
    "        values[0] -= 1\n",
    "        values.sort(reverse=True)\n",
    "    \n",
    "    if len(set(values)) == 1:\n",
    "        reduced_chars = [char * freq[char] for char in sorted(freq.keys())]\n",
    "        return ''.join(reduced_chars)\n",
    "    \n",
    "    return \"\""
   ]
  },
  {
   "cell_type": "code",
   "execution_count": 23,
   "id": "8685e35d",
   "metadata": {},
   "outputs": [],
   "source": [
    "# 14. Find longest rotationally equivalent substring\n",
    "def is_rotation(s1, s2):\n",
    "    return len(s1) == len(s2) and s1 in (s2 + s2)\n",
    "\n",
    "def equivalent(str1, str2):\n",
    "    longest = \"\"\n",
    "    for i in range(len(str1)):\n",
    "        for j in range(i + 1, len(str1) + 1):\n",
    "            sub = str1[i:j]\n",
    "            for k in range(len(str2)):\n",
    "                for l in range(k + 1, len(str2) + 1):\n",
    "                    if is_rotation(sub, str2[k:l]):\n",
    "                        if len(sub) > len(longest) or (len(sub) == len(longest) and sub < longest):\n",
    "                            longest = sub\n",
    "    return longest if longest else \"a\"\n"
   ]
  },
  {
   "cell_type": "code",
   "execution_count": 24,
   "id": "6c6c493b",
   "metadata": {},
   "outputs": [],
   "source": [
    "# 15. Longest palindromic substring length\n",
    "def subPali(s):\n",
    "    n = len(s)\n",
    "    longest = 1\n",
    "    for i in range(n):\n",
    "        for j in range(i + 1, n + 1):\n",
    "            sub = s[i:j]\n",
    "            if sub == sub[::-1]:\n",
    "                longest = max(longest, len(sub))\n",
    "    return longest"
   ]
  },
  {
   "cell_type": "code",
   "execution_count": 25,
   "id": "70dd411a",
   "metadata": {},
   "outputs": [],
   "source": [
    "# 16. Extract duplicates from a list\n",
    "def extractDup(lst):\n",
    "    seen, dups = set(), set()\n",
    "    for num in lst:\n",
    "        if num in seen:\n",
    "            dups.add(num)\n",
    "        else:\n",
    "            seen.add(num)\n",
    "    return sorted(dups)\n"
   ]
  },
  {
   "cell_type": "code",
   "execution_count": 26,
   "id": "4e0bd907",
   "metadata": {},
   "outputs": [],
   "source": [
    "# 17. Perform various list operations\n",
    "def listOps(lst):\n",
    "    if len(lst) >= 4:\n",
    "        print(\"Fourth item:\", lst[3])\n",
    "    else:\n",
    "        print(\"Fourth item: List too short\")\n",
    "    \n",
    "    print(\"All items except first two:\", lst[2:])\n",
    "    print(\"Reverse list:\", lst[::-1])\n",
    "    print(\"Sum of elements:\", sum(lst))\n",
    "    print(f\"Max: {max(lst)}, Min: {min(lst)}\")\n",
    "    \n",
    "    zero_index = lst.index(0) if 0 in lst else -1\n",
    "    print(\"First zero index:\", zero_index)\n",
    "    \n",
    "    print(\"Ascending order:\", sorted(lst))\n",
    "    print(\"Descending order:\", sorted(lst, reverse=True))"
   ]
  },
  {
   "cell_type": "code",
   "execution_count": 27,
   "id": "aee6e2f0",
   "metadata": {},
   "outputs": [],
   "source": [
    "# 18. Remove duplicates from list\n",
    "def delDup(lst):\n",
    "    return sorted(set(lst), key=lst.index)\n",
    "\n"
   ]
  },
  {
   "cell_type": "code",
   "execution_count": 28,
   "id": "811357c8",
   "metadata": {},
   "outputs": [],
   "source": [
    "# 19. Weave two lists together\n",
    "class LengthMismatchException(Exception):\n",
    "    pass\n",
    "\n",
    "def weave(lst1, lst2):\n",
    "    if len(lst1) != len(lst2):\n",
    "        raise LengthMismatchException(\"Lists must have equal length.\")\n",
    "    return [lst1[i] for i in range(len(lst1))] + [lst2[i] for i in range(len(lst2))]"
   ]
  },
  {
   "cell_type": "code",
   "execution_count": 29,
   "id": "a902c577",
   "metadata": {},
   "outputs": [],
   "source": [
    "# 20. Odd numbers in Collatz sequence\n",
    "def oddCollatz(n):\n",
    "    seq = []\n",
    "    while n != 1:\n",
    "        if n % 2 == 1:\n",
    "            seq.append(n)\n",
    "        n = 3 * n + 1 if n % 2 else n // 2\n",
    "    seq.append(1)\n",
    "    return seq"
   ]
  },
  {
   "cell_type": "code",
   "execution_count": 30,
   "id": "a5caa989",
   "metadata": {},
   "outputs": [],
   "source": [
    "# 21. Move all zeros to the right using list comprehension\n",
    "def moveZeros(lst):\n",
    "    return [x for x in lst if x != 0] + [0] * lst.count(0)"
   ]
  },
  {
   "cell_type": "code",
   "execution_count": 31,
   "id": "e35a0994",
   "metadata": {},
   "outputs": [],
   "source": [
    "# 22. Print matrix from row-major order\n",
    "class DimensionMismatchException(Exception):\n",
    "    pass\n",
    "\n",
    "def printMat(lst, rows, cols):\n",
    "    if len(lst) != rows * cols:\n",
    "        raise DimensionMismatchException(\"Dimensions do not match matrix size.\")\n",
    "    for i in range(rows):\n",
    "        print(\" \".join(map(str, lst[i*cols:(i+1)*cols])))"
   ]
  },
  {
   "cell_type": "code",
   "execution_count": 32,
   "id": "fae2af2d",
   "metadata": {},
   "outputs": [],
   "source": [
    "# 23. Matrix multiplication in row-major order\n",
    "def matMul(mat1, mat2, n):\n",
    "    if len(mat1) != len(mat2):\n",
    "        raise DimensionMismatchException(\"Matrices must be of compatible dimensions.\")\n",
    "    result = [sum(mat1[i*n+j] * mat2[j*n+k] for j in range(n)) for i in range(n) for k in range(n)]\n",
    "    return result"
   ]
  },
  {
   "cell_type": "code",
   "execution_count": 33,
   "id": "f487802c",
   "metadata": {},
   "outputs": [],
   "source": [
    "# 24. Compute sum of squares of positive numbers and sum of cubes of negatives\n",
    "def splitsum(lst):\n",
    "    return [sum(x**2 for x in lst if x > 0), sum(x**3 for x in lst if x < 0)]\n"
   ]
  },
  {
   "cell_type": "code",
   "execution_count": 34,
   "id": "613b3e66",
   "metadata": {},
   "outputs": [],
   "source": [
    "# 25. Find the k-th largest element\n",
    "class InvalidKException(Exception):\n",
    "    pass\n",
    "\n",
    "def kMax(lst, k):\n",
    "    if k < 1 or k > len(lst):\n",
    "        raise InvalidKException(\"Invalid value for k.\")\n",
    "    return sorted(lst, reverse=True)[k-1]\n"
   ]
  },
  {
   "cell_type": "code",
   "execution_count": 35,
   "id": "1a44edc5",
   "metadata": {},
   "outputs": [],
   "source": [
    "# 26. Student class implementation with score tracking\n",
    "class Score:\n",
    "    def __init__(self, subject, marks):\n",
    "        self.subject = subject\n",
    "        self.marks = marks\n",
    "\n",
    "class Student:\n",
    "    def __init__(self, name):\n",
    "        self.name = name\n",
    "        self.scores = []\n",
    "\n",
    "    def add_score(self, subject, marks):\n",
    "        self.scores.append(Score(subject, marks))\n",
    "\n",
    "    def average(self):\n",
    "        return round(sum(score.marks for score in self.scores) / len(self.scores), 2) if self.scores else 0\n",
    "\n",
    "    def __str__(self):\n",
    "        return f\"{self.name}: {', '.join(f'{s.subject}-{s.marks}' for s in self.scores)}\"\n",
    "\n",
    "def classAverage(students, subject):\n",
    "    subject_scores = [s.marks for student in students for s in student.scores if s.subject == subject]\n",
    "    return round(sum(subject_scores) / len(subject_scores), 2) if subject_scores else 0\n",
    "\n",
    "# 26. Student class implementation with score tracking\n",
    "class Score:\n",
    "    def __init__(self, subject, marks):\n",
    "        self.subject = subject\n",
    "        self.marks = marks\n",
    "\n",
    "class Student:\n",
    "    def __init__(self, name):\n",
    "        self.name = name\n",
    "        self.scores = []\n",
    "\n",
    "    def add_score(self, subject, marks):\n",
    "        self.scores.append(Score(subject, marks))\n",
    "\n",
    "    def average(self):\n",
    "        return round(sum(score.marks for score in self.scores) / len(self.scores), 2) if self.scores else 0\n",
    "\n",
    "    def __str__(self):\n",
    "        return f\"{self.name}: {', '.join(f'{s.subject}-{s.marks}' for s in self.scores)}\"\n",
    "\n",
    "def classAverage(students, subject):\n",
    "    subject_scores = [s.marks for student in students for s in student.scores if s.subject == subject]\n",
    "    return round(sum(subject_scores) / len(subject_scores), 2) if subject_scores else 0\n",
    "\n"
   ]
  },
  {
   "cell_type": "code",
   "execution_count": 36,
   "id": "38b2fd10",
   "metadata": {},
   "outputs": [
    {
     "name": "stdout",
     "output_type": "stream",
     "text": [
      "3-dimensional vector: [1, 2, 3]\n",
      "3-dimensional vector: [2, 4, 6]\n",
      "3-dimensional vector: [3, 6, 9]\n",
      "3-dimensional vector: [5, 7, 9]\n",
      "3-dimensional vector: [-3, -3, -3]\n",
      "32\n"
     ]
    }
   ],
   "source": [
    "# 27.\n",
    "\n",
    "class InvalidVectorOperation(Exception):\n",
    "    pass\n",
    "\n",
    "class Vector:\n",
    "    def __init__(self, values):\n",
    "        if not isinstance(values, list) or not all(isinstance(v, (int, float)) for v in values):\n",
    "            raise InvalidVectorOperation(\"Vector must be a list of numbers.\")\n",
    "        self.__values = values\n",
    "\n",
    "    def __str__(self):\n",
    "        return f\"{len(self.__values)}-dimensional vector: {self.__values}\"\n",
    "\n",
    "    def __mul__(self, scalar):\n",
    "        if isinstance(scalar, (int, float)):\n",
    "            return Vector([scalar * v for v in self.__values])\n",
    "        raise InvalidVectorOperation(\"Multiplication only allowed with a scalar.\")\n",
    "\n",
    "    def __rmul__(self, scalar):\n",
    "        return self * scalar\n",
    "\n",
    "    def __add__(self, other):\n",
    "        if isinstance(other, Vector) and len(self.__values) == len(other.__values):\n",
    "            return Vector([self.__values[i] + other.__values[i] for i in range(len(self.__values))])\n",
    "        raise InvalidVectorOperation(\"Addition requires vectors of the same dimension.\")\n",
    "\n",
    "    def __sub__(self, other):\n",
    "        if isinstance(other, Vector) and len(self.__values) == len(other.__values):\n",
    "            return Vector([self.__values[i] - other.__values[i] for i in range(len(self.__values))])\n",
    "        raise InvalidVectorOperation(\"Subtraction requires vectors of the same dimension.\")\n",
    "\n",
    "    def __matmul__(self, other):\n",
    "        if isinstance(other, Vector) and len(self.__values) == len(other.__values):\n",
    "            return sum(self.__values[i] * other.__values[i] for i in range(len(self.__values)))\n",
    "        raise InvalidVectorOperation(\"Dot product requires vectors of the same dimension.\")\n",
    "\n",
    "# Example usage\n",
    "v1 = Vector([1, 2, 3])\n",
    "v2 = Vector([4, 5, 6])\n",
    "\n",
    "print(v1)  # \"3-dimensional vector: [1, 2, 3]\"\n",
    "print(2 * v1)  # \"3-dimensional vector: [2, 4, 6]\"\n",
    "print(v1 * 3)  # \"3-dimensional vector: [3, 6, 9]\"\n",
    "print(v1 + v2)  # \"3-dimensional vector: [5, 7, 9]\"\n",
    "print(v1 - v2)  # \"3-dimensional vector: [-3, -3, -3]\"\n",
    "print(v1 @ v2)  # \"32\""
   ]
  }
 ],
 "metadata": {
  "kernelspec": {
   "display_name": "Python 3",
   "language": "python",
   "name": "python3"
  },
  "language_info": {
   "codemirror_mode": {
    "name": "ipython",
    "version": 3
   },
   "file_extension": ".py",
   "mimetype": "text/x-python",
   "name": "python",
   "nbconvert_exporter": "python",
   "pygments_lexer": "ipython3",
   "version": "3.12.9"
  }
 },
 "nbformat": 4,
 "nbformat_minor": 5
}
